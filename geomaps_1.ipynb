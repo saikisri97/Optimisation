{
 "cells": [
  {
   "cell_type": "code",
   "execution_count": 1,
   "metadata": {},
   "outputs": [],
   "source": [
    "import pandas as pd\n",
    "import geopandas as gpd\n",
    "import osmnx as ox\n",
    "import folium\n",
    "import matplotlib.pyplot as plt\n",
    "import seaborn as sns\n",
    "import openrouteservice"
   ]
  },
  {
   "cell_type": "code",
   "execution_count": 13,
   "metadata": {},
   "outputs": [
    {
     "name": "stderr",
     "output_type": "stream",
     "text": [
      "/opt/anaconda3/lib/python3.8/site-packages/osmnx/geocoder.py:110: FutureWarning: The frame.append method is deprecated and will be removed from pandas in a future version. Use pandas.concat instead.\n",
      "  gdf = gdf.append(_geocode_query_to_gdf(q, wr, by_osmid))\n"
     ]
    }
   ],
   "source": [
    "place = \"röthenbach an der pegnitz, Germany\"\n",
    "#place = \"erlangen, Germany\"\n",
    "graph = ox.graph_from_place(place)"
   ]
  },
  {
   "cell_type": "markdown",
   "metadata": {},
   "source": [
    "## getting the streets"
   ]
  },
  {
   "cell_type": "code",
   "execution_count": 14,
   "metadata": {},
   "outputs": [],
   "source": [
    "streets = ox.graph_to_gdfs(graph)"
   ]
  },
  {
   "cell_type": "markdown",
   "metadata": {},
   "source": [
    "## getting the buildings and the firestations in those buildings"
   ]
  },
  {
   "cell_type": "code",
   "execution_count": 15,
   "metadata": {},
   "outputs": [
    {
     "name": "stderr",
     "output_type": "stream",
     "text": [
      "/opt/anaconda3/lib/python3.8/site-packages/osmnx/geocoder.py:110: FutureWarning: The frame.append method is deprecated and will be removed from pandas in a future version. Use pandas.concat instead.\n",
      "  gdf = gdf.append(_geocode_query_to_gdf(q, wr, by_osmid))\n"
     ]
    }
   ],
   "source": [
    "tags = {\"building\": True}\n",
    "buildings = ox.geometries_from_place(place,tags)\n",
    "fire_stations = buildings[buildings.amenity == \"fire_station\"]"
   ]
  },
  {
   "cell_type": "code",
   "execution_count": 16,
   "metadata": {},
   "outputs": [],
   "source": [
    "fire_station=[]\n",
    "for i in range(len(fire_stations[\"geometry\"])):\n",
    "    fire_station.append(list(fire_stations[\"geometry\"].exterior.iloc[i].coords)[1])"
   ]
  },
  {
   "cell_type": "code",
   "execution_count": 17,
   "metadata": {},
   "outputs": [
    {
     "name": "stderr",
     "output_type": "stream",
     "text": [
      "/var/folders/wt/9gf59rdd2j16lhgptjnc2cxh0000gp/T/ipykernel_7711/1610083028.py:5: ResourceWarning: unclosed <ssl.SSLSocket fd=79, family=AddressFamily.AF_INET, type=SocketKind.SOCK_STREAM, proto=0, laddr=('192.168.1.110', 58156), raddr=('129.206.5.53', 443)>\n",
      "  client = openrouteservice.Client(key=key)\n",
      "ResourceWarning: Enable tracemalloc to get the object allocation traceback\n"
     ]
    }
   ],
   "source": [
    "#for openrouteservice\n",
    "key='5b3ce3597851110001cf624864c7b4d77462447c9035fc94c899056e'\n",
    "coords = ((8.34234,48.23424),(8.34423,48.26424))\n",
    "\n",
    "client = openrouteservice.Client(key=key)\n"
   ]
  },
  {
   "cell_type": "code",
   "execution_count": 26,
   "metadata": {},
   "outputs": [
    {
     "data": {
      "text/plain": [
       "<folium.map.LayerControl at 0x7fe5d606c9d0>"
      ]
     },
     "execution_count": 26,
     "metadata": {},
     "output_type": "execute_result"
    }
   ],
   "source": [
    "isochrones = []\n",
    "map_isochrone = folium.Map(location=[fire_station[0][1],fire_station[0][0]], tiles='cartodbpositron', zoom_start=12)\n",
    "style = [{'color': '#F7DC6F', 'weight':'1'},{'color': '#00FF00', 'weight':'2'},{'color': '#FF0000', 'weight':'2'},{'color': '#FF0000', 'weight':'2'}]\n",
    "folium.features.GeoJson(buildings, name = 'buidlings', style_function=lambda x: style[0]).add_to(map_isochrone)\n",
    "folium.features.GeoJson(streets,name = 'streets', style_function=lambda x: style[1]).add_to(map_isochrone)\n",
    "folium.features.GeoJson(fire_stations,name = \"Fire Stations\",style_function=lambda x: style[2]).add_to(map_isochrone)\n",
    "#folium.features.GeoJson(nodes,name = \"nodes\",style_function=lambda x: style[3]).add_to(map_isochrone)\n",
    " \n",
    "for i, building  in enumerate(fire_station):\n",
    "    lat, lon = building[0], building[1]\n",
    "    coordinates = [[lat, lon]] # these have to be passed as lon and lat.\n",
    "    \n",
    "    isochrone = client.isochrones(locations= coordinates,\n",
    "\n",
    "                                            profile=\"driving-car\",\n",
    "                                            range_type = 'time',\n",
    "                                            \n",
    "                                            range = [120,240,600])\n",
    "    isochrones.append(isochrone)\n",
    "    # add geojson to map with population\n",
    "    #population = isochrone['features'][0]['properties']['total_pop']\n",
    "    folium.GeoJson(isochrone, name='isochrone of fire_station_{}'.format(i+1)).add_to(map_isochrone)\n",
    "folium.LayerControl().add_to(map_isochrone)\n",
    "#save the "
   ]
  },
  {
   "cell_type": "code",
   "execution_count": 27,
   "metadata": {},
   "outputs": [],
   "source": [
    "#save the model\n",
    "map_isochrone.save('isochrone.html')\n",
    "#display the model as an image\n",
    "#map_isochrone\n"
   ]
  },
  {
   "cell_type": "code",
   "execution_count": null,
   "metadata": {},
   "outputs": [],
   "source": []
  }
 ],
 "metadata": {
  "interpreter": {
   "hash": "40d3a090f54c6569ab1632332b64b2c03c39dcf918b08424e98f38b5ae0af88f"
  },
  "kernelspec": {
   "display_name": "Python 3.8.8 ('base')",
   "language": "python",
   "name": "python3"
  },
  "language_info": {
   "codemirror_mode": {
    "name": "ipython",
    "version": 3
   },
   "file_extension": ".py",
   "mimetype": "text/x-python",
   "name": "python",
   "nbconvert_exporter": "python",
   "pygments_lexer": "ipython3",
   "version": "3.8.8"
  },
  "orig_nbformat": 4
 },
 "nbformat": 4,
 "nbformat_minor": 2
}
