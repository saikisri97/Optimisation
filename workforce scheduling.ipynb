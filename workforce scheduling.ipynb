{
 "cells": [
  {
   "cell_type": "markdown",
   "metadata": {},
   "source": [
    "## Optimize Workforce Planning using Linear Programming with Python\n",
    "What is the minimum number of temporary workers you need to hire to absorb your weekly workload while ensuring employees retention?\n"
   ]
  },
  {
   "cell_type": "markdown",
   "metadata": {},
   "source": [
    "A major challenge faced by Distribution Center (DC) managers is the fluctuation of the workload during the week.\n",
    "Considering that the average productivity of your workers is stable, the only solution is to adapt your resources to meet the demand of each day.\n"
   ]
  },
  {
   "cell_type": "markdown",
   "metadata": {},
   "source": [
    "# I. Workforce Planning: Problem Statement\n",
    "### 1. Scenario\n",
    "You are an Inbound Manager of a Distribution Center operated by a Third Party Logistics Company (3PL) for a large retailer.\n",
    "Your team responsibilities include\n",
    "Unload Pallets from the Trucks\n",
    "Scan each pallet and record the received quantity in your Warehouse Management System (WMS)\n",
    "Put away these pallets to Stock Area\n",
    "The team’s global productivity is measured each week in (Pallets/Hour). At the beginning of each month, your colleagues from the transportation team share a forecast of the number of pallets to be received every day for the next 4 weeks."
   ]
  },
  {
   "cell_type": "markdown",
   "metadata": {},
   "source": [
    "For more flexibility, you will use 100% of temporary workers to build your team.\n",
    "### Constraint 1: The Supply must meet the demand\n",
    "If you need 31 workers Monday, you need to secure at least 31 workers for Monday.\n",
    "### Constraint 2: Minimum working time by worker\n",
    "To ensure employees retention, you need to guarantee a minimum of 5 consecutive working days per week. Workforce sourcing can be challenging especially if your DC is surrounded by e-commerce fulfilment centres.\n",
    "Therefore you need to ensure minimum working time for your temporary workers to be an attractive employer.\n",
    "### Constraint 3: Maximum working time by week\n",
    "Following the local regulations, each worker needs to rest 2 days after 5 consecutive working days.\n"
   ]
  },
  {
   "cell_type": "markdown",
   "metadata": {},
   "source": [
    "# Objective : Minimize the number of workers hired\n"
   ]
  },
  {
   "cell_type": "markdown",
   "metadata": {},
   "source": [
    "## Linear Programming Problem\n",
    "We define a Linear Programming Problem by finding the\n",
    "the optimal value of a linear function (objective function) of several variables (x[i]), subject to the conditions that the variables are non-negative and satisfy a set of linear inequalities (called linear constraints).\n",
    "Our problem fits perfectly!"
   ]
  },
  {
   "cell_type": "markdown",
   "metadata": {},
   "source": [
    "# Variables\n",
    "x[i]: number of temporary workers hired for shift i\n",
    "Constraints\n",
    "- For each day the total number of workers on-duty must be higher than the demand\n",
    "- Each worker needs to work a minimum of 5 consecutive days per week\n",
    "- Each worker needs to have 2 days off after 5 consecutive days of work\n",
    "Objective functions\n",
    "The total number of temporary workers hired for all shifts i = 1 … 7 should be minimal"
   ]
  },
  {
   "cell_type": "code",
   "execution_count": 1,
   "metadata": {},
   "outputs": [],
   "source": [
    "import pandas as pd\n",
    "import numpy as np\n",
    "import matplotlib.pyplot as plt\n",
    "import seaborn as sns\n",
    "from pulp import *\n",
    "from itertools import chain, repeat\n"
   ]
  },
  {
   "cell_type": "code",
   "execution_count": 11,
   "metadata": {},
   "outputs": [],
   "source": [
    "def ncycles(iterable, n):\n",
    "    \"Returns the sequence elements n times\"\n",
    "    return chain.from_iterable(repeat(tuple(iterable), n))"
   ]
  },
  {
   "cell_type": "code",
   "execution_count": 31,
   "metadata": {},
   "outputs": [],
   "source": [
    "#network parameters\n",
    "#staff needed for a day\n",
    "n_staff = [31,45,40,40,48,30,20]\n",
    "\n",
    "# Days of the week\n",
    "jours = ['Monday', 'Tuesday', 'Wednesday', 'Thursday', 'Friday', 'Saturday', 'Sunday']\n"
   ]
  },
  {
   "cell_type": "code",
   "execution_count": 32,
   "metadata": {},
   "outputs": [],
   "source": [
    "# Create circular list of days\n",
    "n_days = [i for i in range(7)]\n",
    "n_days_c = list(ncycles(n_days, 3)) \n"
   ]
  },
  {
   "cell_type": "code",
   "execution_count": 33,
   "metadata": {},
   "outputs": [
    {
     "data": {
      "text/plain": [
       "[0, 1, 2, 3, 4, 5, 6, 0, 1, 2, 3, 4, 5, 6, 0, 1, 2, 3, 4, 5, 6]"
      ]
     },
     "execution_count": 33,
     "metadata": {},
     "output_type": "execute_result"
    }
   ],
   "source": [
    "n_days_c"
   ]
  },
  {
   "cell_type": "code",
   "execution_count": 34,
   "metadata": {},
   "outputs": [],
   "source": [
    "# Working days\n",
    "list_in = [[n_days_c[j] for j in range(i , i + 5)] for i in n_days_c]"
   ]
  },
  {
   "cell_type": "code",
   "execution_count": 35,
   "metadata": {},
   "outputs": [],
   "source": [
    "# Workers off by shift for each day\n",
    "list_excl = [[n_days_c[j] for j in range(i + 1, i + 3)] for i in n_days_c]\n",
    "\n"
   ]
  },
  {
   "cell_type": "code",
   "execution_count": 36,
   "metadata": {},
   "outputs": [
    {
     "name": "stderr",
     "output_type": "stream",
     "text": [
      "/opt/anaconda3/lib/python3.8/site-packages/pulp/pulp.py:1352: UserWarning: Spaces are not permitted in the name. Converted to '_'\n",
      "  warnings.warn(\"Spaces are not permitted in the name. Converted to '_'\")\n"
     ]
    }
   ],
   "source": [
    "#initialise the model\n",
    "prob = LpProblem(\"Workforce scheduling\", LpMinimize)\n",
    "\n",
    "#create Variables\n",
    "start_jours = ['Shift: ' + i for i in jours]\n",
    "x = LpVariable.dicts('shift_',n_days, lowBound=0, cat='Integer')\n",
    "\n",
    "#define Objective function\n",
    "prob += lpSum([x[i] for i in n_days])\n",
    "\n",
    "#add constraints\n",
    "# Add constraints\n",
    "for d, l_excl, staff in zip(n_days, list_excl, n_staff):\n",
    "    prob += lpSum([x[i] for i in n_days if i not in l_excl]) >= staff\n"
   ]
  },
  {
   "cell_type": "code",
   "execution_count": 37,
   "metadata": {},
   "outputs": [
    {
     "name": "stdout",
     "output_type": "stream",
     "text": [
      "Welcome to the CBC MILP Solver \n",
      "Version: 2.10.3 \n",
      "Build Date: Dec 15 2019 \n",
      "\n",
      "command line - /opt/anaconda3/lib/python3.8/site-packages/pulp/apis/../solverdir/cbc/osx/64/cbc /var/folders/wt/9gf59rdd2j16lhgptjnc2cxh0000gp/T/1221ef82583f4c578187bb5646af4e10-pulp.mps timeMode elapsed branch printingOptions all solution /var/folders/wt/9gf59rdd2j16lhgptjnc2cxh0000gp/T/1221ef82583f4c578187bb5646af4e10-pulp.sol (default strategy 1)\n",
      "At line 2 NAME          MODEL\n",
      "At line 3 ROWS\n",
      "At line 12 COLUMNS\n",
      "At line 69 RHS\n",
      "At line 77 BOUNDS\n",
      "At line 85 ENDATA\n",
      "Problem MODEL has 7 rows, 7 columns and 35 elements\n",
      "Coin0008I MODEL read with 0 errors\n",
      "Option for timeMode changed from cpu to elapsed\n",
      "Continuous objective value is 51 - 0.00 seconds\n",
      "Cgl0003I 0 fixed, 7 tightened bounds, 0 strengthened rows, 0 substitutions\n",
      "Cgl0004I processed model has 7 rows, 7 columns (7 integer (0 of which binary)) and 35 elements\n",
      "Cutoff increment increased from 1e-05 to 0.9999\n",
      "Cbc0012I Integer solution of 51 found by greedy cover after 0 iterations and 0 nodes (0.01 seconds)\n",
      "Cbc0001I Search completed - best objective 51, took 0 iterations and 0 nodes (0.01 seconds)\n",
      "Cbc0035I Maximum depth 0, 0 variables fixed on reduced cost\n",
      "Cuts at root node changed objective from 51 to 51\n",
      "Probing was tried 0 times and created 0 cuts of which 0 were active after adding rounds of cuts (0.000 seconds)\n",
      "Gomory was tried 0 times and created 0 cuts of which 0 were active after adding rounds of cuts (0.000 seconds)\n",
      "Knapsack was tried 0 times and created 0 cuts of which 0 were active after adding rounds of cuts (0.000 seconds)\n",
      "Clique was tried 0 times and created 0 cuts of which 0 were active after adding rounds of cuts (0.000 seconds)\n",
      "MixedIntegerRounding2 was tried 0 times and created 0 cuts of which 0 were active after adding rounds of cuts (0.000 seconds)\n",
      "FlowCover was tried 0 times and created 0 cuts of which 0 were active after adding rounds of cuts (0.000 seconds)\n",
      "TwoMirCuts was tried 0 times and created 0 cuts of which 0 were active after adding rounds of cuts (0.000 seconds)\n",
      "ZeroHalf was tried 0 times and created 0 cuts of which 0 were active after adding rounds of cuts (0.000 seconds)\n",
      "\n",
      "Result - Optimal solution found\n",
      "\n",
      "Objective value:                51.00000000\n",
      "Enumerated nodes:               0\n",
      "Total iterations:               0\n",
      "Time (CPU seconds):             0.00\n",
      "Time (Wallclock seconds):       0.01\n",
      "\n",
      "Option for printingOptions changed from normal to all\n",
      "Total time (CPU seconds):       0.00   (Wallclock seconds):       0.03\n",
      "\n",
      "Status: Optimal\n"
     ]
    }
   ],
   "source": [
    "#solve the model\n",
    "status = prob.solve()\n",
    "\n",
    "#the status of the solution is printed to the screen\n",
    "\n",
    "print(\"Status:\", LpStatus[status])\n",
    "\n",
    "#how many workers are needed per day?\n",
    "dct_work = {}\n",
    "\n",
    "for v in prob.variables():\n",
    "    dct_work[int(v.name[-1])] = int(v.varValue)\n",
    "    \n",
    "    \n",
    "    \n",
    "#show Detailed Sizing per Day\n",
    "dict_sch = {}\n",
    "\n",
    "for day in dct_work.keys():\n",
    "    dict_sch[day] = [dct_work[day] if i in list_in[day] else 0 for i in n_days]\n",
    "df_sch = pd.DataFrame(dict_sch).T\n",
    "df_sch.columns = jours\n",
    "df_sch.index = start_jours\n",
    "\n"
   ]
  },
  {
   "cell_type": "code",
   "execution_count": 38,
   "metadata": {},
   "outputs": [
    {
     "data": {
      "text/html": [
       "<div>\n",
       "<style scoped>\n",
       "    .dataframe tbody tr th:only-of-type {\n",
       "        vertical-align: middle;\n",
       "    }\n",
       "\n",
       "    .dataframe tbody tr th {\n",
       "        vertical-align: top;\n",
       "    }\n",
       "\n",
       "    .dataframe thead th {\n",
       "        text-align: right;\n",
       "    }\n",
       "</style>\n",
       "<table border=\"1\" class=\"dataframe\">\n",
       "  <thead>\n",
       "    <tr style=\"text-align: right;\">\n",
       "      <th></th>\n",
       "      <th>Monday</th>\n",
       "      <th>Tuesday</th>\n",
       "      <th>Wednesday</th>\n",
       "      <th>Thursday</th>\n",
       "      <th>Friday</th>\n",
       "      <th>Saturday</th>\n",
       "      <th>Sunday</th>\n",
       "    </tr>\n",
       "  </thead>\n",
       "  <tbody>\n",
       "    <tr>\n",
       "      <th>Shift: Monday</th>\n",
       "      <td>17</td>\n",
       "      <td>17</td>\n",
       "      <td>17</td>\n",
       "      <td>17</td>\n",
       "      <td>17</td>\n",
       "      <td>0</td>\n",
       "      <td>0</td>\n",
       "    </tr>\n",
       "    <tr>\n",
       "      <th>Shift: Tuesday</th>\n",
       "      <td>0</td>\n",
       "      <td>14</td>\n",
       "      <td>14</td>\n",
       "      <td>14</td>\n",
       "      <td>14</td>\n",
       "      <td>14</td>\n",
       "      <td>0</td>\n",
       "    </tr>\n",
       "    <tr>\n",
       "      <th>Shift: Wednesday</th>\n",
       "      <td>0</td>\n",
       "      <td>0</td>\n",
       "      <td>6</td>\n",
       "      <td>6</td>\n",
       "      <td>6</td>\n",
       "      <td>6</td>\n",
       "      <td>6</td>\n",
       "    </tr>\n",
       "    <tr>\n",
       "      <th>Shift: Thursday</th>\n",
       "      <td>0</td>\n",
       "      <td>0</td>\n",
       "      <td>0</td>\n",
       "      <td>0</td>\n",
       "      <td>0</td>\n",
       "      <td>0</td>\n",
       "      <td>0</td>\n",
       "    </tr>\n",
       "    <tr>\n",
       "      <th>Shift: Friday</th>\n",
       "      <td>11</td>\n",
       "      <td>11</td>\n",
       "      <td>0</td>\n",
       "      <td>0</td>\n",
       "      <td>11</td>\n",
       "      <td>11</td>\n",
       "      <td>11</td>\n",
       "    </tr>\n",
       "    <tr>\n",
       "      <th>Shift: Saturday</th>\n",
       "      <td>0</td>\n",
       "      <td>0</td>\n",
       "      <td>0</td>\n",
       "      <td>0</td>\n",
       "      <td>0</td>\n",
       "      <td>0</td>\n",
       "      <td>0</td>\n",
       "    </tr>\n",
       "    <tr>\n",
       "      <th>Shift: Sunday</th>\n",
       "      <td>3</td>\n",
       "      <td>3</td>\n",
       "      <td>3</td>\n",
       "      <td>3</td>\n",
       "      <td>0</td>\n",
       "      <td>0</td>\n",
       "      <td>3</td>\n",
       "    </tr>\n",
       "  </tbody>\n",
       "</table>\n",
       "</div>"
      ],
      "text/plain": [
       "                  Monday  Tuesday  Wednesday  Thursday  Friday  Saturday  \\\n",
       "Shift: Monday         17       17         17        17      17         0   \n",
       "Shift: Tuesday         0       14         14        14      14        14   \n",
       "Shift: Wednesday       0        0          6         6       6         6   \n",
       "Shift: Thursday        0        0          0         0       0         0   \n",
       "Shift: Friday         11       11          0         0      11        11   \n",
       "Shift: Saturday        0        0          0         0       0         0   \n",
       "Shift: Sunday          3        3          3         3       0         0   \n",
       "\n",
       "                  Sunday  \n",
       "Shift: Monday          0  \n",
       "Shift: Tuesday         0  \n",
       "Shift: Wednesday       6  \n",
       "Shift: Thursday        0  \n",
       "Shift: Friday         11  \n",
       "Shift: Saturday        0  \n",
       "Shift: Sunday          3  "
      ]
     },
     "execution_count": 38,
     "metadata": {},
     "output_type": "execute_result"
    }
   ],
   "source": [
    "df_sch"
   ]
  },
  {
   "cell_type": "code",
   "execution_count": 39,
   "metadata": {},
   "outputs": [
    {
     "name": "stdout",
     "output_type": "stream",
     "text": [
      "Total number of Staff =  51.0\n"
     ]
    }
   ],
   "source": [
    "# The optimized objective function value is printed to the screen\n",
    "print(\"Total number of Staff = \", pulp.value(prob.objective))"
   ]
  }
 ],
 "metadata": {
  "interpreter": {
   "hash": "40d3a090f54c6569ab1632332b64b2c03c39dcf918b08424e98f38b5ae0af88f"
  },
  "kernelspec": {
   "display_name": "Python 3.8.8 ('base')",
   "language": "python",
   "name": "python3"
  },
  "language_info": {
   "codemirror_mode": {
    "name": "ipython",
    "version": 3
   },
   "file_extension": ".py",
   "mimetype": "text/x-python",
   "name": "python",
   "nbconvert_exporter": "python",
   "pygments_lexer": "ipython3",
   "version": "3.8.8"
  },
  "orig_nbformat": 4
 },
 "nbformat": 4,
 "nbformat_minor": 2
}
