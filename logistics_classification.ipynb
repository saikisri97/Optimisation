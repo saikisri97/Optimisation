{
 "cells": [
  {
   "cell_type": "markdown",
   "metadata": {},
   "source": [
    "# Logistics Shipment Delay Classification\n",
    "\n",
    "In this notebook, we:\n",
    "1. Generate (or load) a synthetic logistics dataset\n",
    "2. Perform data exploration & preprocessing\n",
    "3. Train a Logistic Regression model\n",
    "4. Evaluate the model’s performance\n",
    "5. (Optionally) visualize the confusion matrix"
   ]
  },
  {
   "cell_type": "code",
   "execution_count": null,
   "metadata": {
    "collapsed": false
   },
   "outputs": [],
   "source": [
    "# --------------------------------------------------\n",
    "# 1. IMPORT LIBRARIES\n",
    "# --------------------------------------------------\n",
    "import numpy as np\n",
    "import pandas as pd\n",
    "import matplotlib.pyplot as plt\n",
    "import seaborn as sns\n",
    "from sklearn.model_selection import train_test_split\n",
    "from sklearn.linear_model import LogisticRegression\n",
    "from sklearn.metrics import accuracy_score, confusion_matrix, classification_report\n",
    "\n",
    "# For reproducibility\n",
    "np.random.seed(42)"
   ]
  },
  {
   "cell_type": "code",
   "execution_count": null,
   "metadata": {},
   "outputs": [],
   "source": [
    "# --------------------------------------------------\n",
    "# 2. DATA GENERATION (SYNTHETIC) OR UPLOAD\n",
    "# --------------------------------------------------\n",
    "# Below, we create a synthetic DataFrame with columns relevant to a logistics scenario.\n",
    "\n",
    "num_samples = 500\n",
    "distances = np.random.randint(10, 3000, num_samples)  # distance in km\n",
    "weights = np.random.randint(1, 200, num_samples)      # shipment weight in kg\n",
    "shipping_modes = np.random.choice(['Air', 'Truck', 'Ship'], size=num_samples)\n",
    "weekday_sent = np.random.randint(1, 8, num_samples)   # day of week (1=Monday,...7=Sunday)\n",
    "weather = np.random.choice(['Clear', 'Rain', 'Storm'], size=num_samples)\n",
    "\n",
    "# We'll define a target 'delayed' (isDelayed) based on some conditions.\n",
    "is_delayed = []\n",
    "for i in range(num_samples):\n",
    "    if distances[i] > 2000 and weather[i] == 'Storm':\n",
    "        is_delayed.append(1)\n",
    "    elif shipping_modes[i] == 'Ship' and weather[i] != 'Clear':\n",
    "        is_delayed.append(1)\n",
    "    else:\n",
    "        # Slight randomness for other cases\n",
    "        is_delayed.append(np.random.choice([0, 1], p=[0.8, 0.2]))\n",
    "\n",
    "data = pd.DataFrame({\n",
    "    'distance_km': distances,\n",
    "    'weight_kg': weights,\n",
    "    'shipping_mode': shipping_modes,\n",
    "    'weekday_sent': weekday_sent,\n",
    "    'weather': weather,\n",
    "    'delayed': is_delayed\n",
    "})\n",
    "\n",
    "print(data.head(10))"
   ]
  },
  {
   "cell_type": "code",
   "execution_count": null,
   "metadata": {},
   "outputs": [],
   "source": [
    "# --------------------------------------------------\n",
    "# 3. DATA EXPLORATION & PREPROCESSING\n",
    "# --------------------------------------------------\n",
    "# Let's examine basic statistics of the dataset.\n",
    "\n",
    "print(\"\\nData Description:\")\n",
    "print(data.describe())\n",
    "\n",
    "# Check class balance\n",
    "print(\"\\nClass Distribution:\")\n",
    "print(data['delayed'].value_counts())\n",
    "\n",
    "# Convert categorical features to numeric (One-Hot Encoding)\n",
    "data_encoded = pd.get_dummies(data, columns=['shipping_mode', 'weather'], drop_first=True)\n",
    "\n",
    "# (Optional) Scale numeric features if desired, but it's not mandatory for logistic regression.\n",
    "# from sklearn.preprocessing import StandardScaler\n",
    "# scaler = StandardScaler()\n",
    "# data_encoded[['distance_km','weight_kg','weekday_sent']] = scaler.fit_transform(\n",
    "#     data_encoded[['distance_km','weight_kg','weekday_sent']])\n",
    "\n",
    "data_encoded.head()"
   ]
  },
  {
   "cell_type": "code",
   "execution_count": null,
   "metadata": {},
   "outputs": [],
   "source": [
    "# --------------------------------------------------\n",
    "# 4. SPLIT DATA INTO TRAIN/TEST\n",
    "# --------------------------------------------------\n",
    "X = data_encoded.drop('delayed', axis=1)\n",
    "y = data_encoded['delayed']\n",
    "\n",
    "X_train, X_test, y_train, y_test = train_test_split(\n",
    "    X, y, test_size=0.2, random_state=42, stratify=y\n",
    ")\n",
    "\n",
    "X_train.shape, X_test.shape, y_train.shape, y_test.shape"
   ]
  },
  {
   "cell_type": "code",
   "execution_count": null,
   "metadata": {},
   "outputs": [],
   "source": [
    "# --------------------------------------------------\n",
    "# 5. MODEL BUILDING & TRAINING\n",
    "# --------------------------------------------------\n",
    "model = LogisticRegression(max_iter=1000)\n",
    "model.fit(X_train, y_train)\n",
    "print(\"Logistic Regression model is trained.\")"
   ]
  },
  {
   "cell_type": "code",
   "execution_count": null,
   "metadata": {},
   "outputs": [],
   "source": [
    "# --------------------------------------------------\n",
    "# 6. EVALUATION\n",
    "# --------------------------------------------------\n",
    "y_pred = model.predict(X_test)\n",
    "\n",
    "accuracy = accuracy_score(y_test, y_pred)\n",
    "conf_mat = confusion_matrix(y_test, y_pred)\n",
    "report = classification_report(y_test, y_pred)\n",
    "\n",
    "print(\"Accuracy:\", accuracy)\n",
    "print(\"\\nConfusion Matrix:\\n\", conf_mat)\n",
    "print(\"\\nClassification Report:\\n\", report)"
   ]
  },
  {
   "cell_type": "code",
   "execution_count": null,
   "metadata": {},
   "outputs": [],
   "source": [
    "# --------------------------------------------------\n",
    "# 7. OPTIONAL VISUALIZATION\n",
    "# --------------------------------------------------\n",
    "plt.figure()\n",
    "sns.heatmap(conf_mat, annot=True, fmt='d', cmap='Blues')\n",
    "plt.title(\"Confusion Matrix\")\n",
    "plt.xlabel(\"Predicted\")\n",
    "plt.ylabel(\"Actual\")\n",
    "plt.show()"
   ]
  }
 ],
 "metadata": {
  "kernelspec": {
   "display_name": "Python 3",
   "language": "python",
   "name": "python3"
  },
  "language_info": {
   "name": "python",
   "version": "3.8"
  }
 },
 "nbformat": 4,
 "nbformat_minor": 5
}
